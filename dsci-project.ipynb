{
 "cells": [
  {
   "cell_type": "markdown",
   "id": "166d7c10-709e-4aa5-844a-5b275a4759c8",
   "metadata": {},
   "source": [
    "# Project Report"
   ]
  },
  {
   "cell_type": "markdown",
   "id": "95732c28-bb4a-4396-b2a9-fbd55bdcd9c5",
   "metadata": {},
   "source": [
    "## Introduction"
   ]
  },
  {
   "cell_type": "markdown",
   "id": "d9bcfb93-9542-492e-a711-b6e69183e96d",
   "metadata": {},
   "source": [
    "### Background"
   ]
  },
  {
   "cell_type": "code",
   "execution_count": null,
   "id": "c763dc0b-39fb-4eb1-af84-c4a8d5e98ac2",
   "metadata": {},
   "outputs": [],
   "source": []
  },
  {
   "cell_type": "markdown",
   "id": "b36477f4-cc70-40bb-b1c5-8ccc0b8c702e",
   "metadata": {},
   "source": [
    "### Question"
   ]
  },
  {
   "cell_type": "markdown",
   "id": "41e72dc2-6c38-4cb2-a099-9c766b939a45",
   "metadata": {},
   "source": [
    "We are analyzing what kinds of players contribute the most to sessions, particularly their experience levels and gender.  We want to know “Can we predict the gender of these players based on their experience and hours played on the server by k nearest neighbours classification?” Gender is our variable of interest, and experience and hours played are our explanatory variables from the players dataset. Hours played allows us to filter for those that contributed the most to Plaicraft, and experience and gender summarize what “kind” of player they are. Understanding this allows marketing to allocate resources towards this demographic to maximize sales and usage."
   ]
  },
  {
   "cell_type": "markdown",
   "id": "e063a449-d410-42b6-aeaf-b25020a5904e",
   "metadata": {},
   "source": [
    "We will use a scatterplot, since we will use k nearest neighbours to predict where the data is based on other points. The data we are planning to work with is already tidy, however it is likely we will need to remove outliers and “zeros” in the dataset.  While exploring, we will use a bar plot. "
   ]
  },
  {
   "cell_type": "markdown",
   "id": "fcf4b6df-08d3-4155-8c89-2b003b6e2426",
   "metadata": {},
   "source": [
    "### Data Description"
   ]
  },
  {
   "cell_type": "markdown",
   "id": "c295b08f-7865-4071-b95e-cc2e25620fe6",
   "metadata": {},
   "source": [
    "To analyze Plaicraft usage, we will be using the players.csv dataset. The players.csv file provides demographics of each player, with 196 observations and 9 variables. The names and types of variables are bulleted. "
   ]
  },
  {
   "cell_type": "markdown",
   "id": "cb523a7f-bdb4-4325-84f0-961aa7f7b19d",
   "metadata": {},
   "source": [
    "*  Experience (chr) , the experience level playing Minecraft\n",
    "*  Subscribe (lgl), subscription to plaicraft emails\n",
    "*  Hashed Email (dbl), hidden email address of player\n",
    "*  Played Hours (dbl), hours played on the server\n",
    "*  Name (chr), randomized, anonymous names\n",
    "*  Gender (chr), gender of the player\n",
    "*  Age (int), age of the player\n",
    "*  Individual ID\n",
    "*  Organization Name"
   ]
  },
  {
   "cell_type": "markdown",
   "id": "d035d644-6949-4daf-afc7-700ad3309a48",
   "metadata": {},
   "source": [
    "The issues with this data set are “Individual ID” and “Organization Name” variables do not contain data, and players can manipulate their age and gender. "
   ]
  }
 ],
 "metadata": {
  "kernelspec": {
   "display_name": "R",
   "language": "R",
   "name": "ir"
  },
  "language_info": {
   "codemirror_mode": "r",
   "file_extension": ".r",
   "mimetype": "text/x-r-source",
   "name": "R",
   "pygments_lexer": "r",
   "version": "4.3.3"
  }
 },
 "nbformat": 4,
 "nbformat_minor": 5
}
